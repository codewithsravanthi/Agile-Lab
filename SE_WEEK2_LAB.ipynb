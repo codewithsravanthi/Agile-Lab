{
  "nbformat": 4,
  "nbformat_minor": 0,
  "metadata": {
    "colab": {
      "provenance": [],
      "authorship_tag": "ABX9TyNsuYd8ObN7+BO1+lYYFpwG",
      "include_colab_link": true
    },
    "kernelspec": {
      "name": "python3",
      "display_name": "Python 3"
    },
    "language_info": {
      "name": "python"
    }
  },
  "cells": [
    {
      "cell_type": "markdown",
      "metadata": {
        "id": "view-in-github",
        "colab_type": "text"
      },
      "source": [
        "<a href=\"https://colab.research.google.com/github/codewithsravanthi/Agile-Lab/blob/main/SE_WEEK2_LAB.ipynb\" target=\"_parent\"><img src=\"https://colab.research.google.com/assets/colab-badge.svg\" alt=\"Open In Colab\"/></a>"
      ]
    },
    {
      "cell_type": "code",
      "execution_count": 12,
      "metadata": {
        "id": "LnqNYyoyDtYe"
      },
      "outputs": [],
      "source": [
        "def Temperature_modeling(a,b,c,time):\n",
        "  temperature = a*time**2 + b*time +c\n",
        "  return temperature"
      ]
    },
    {
      "cell_type": "code",
      "source": [
        "a,b,c=0.1,2,10\n",
        "time = 5"
      ],
      "metadata": {
        "id": "pEMJG564EEk4"
      },
      "execution_count": 13,
      "outputs": []
    },
    {
      "cell_type": "code",
      "source": [
        "print(\"Hard-coded variables for weather modeling\")\n",
        "print(\"Temperature for hardcoded coefficients at time\", time, \"hours:\", Temperature_modeling(a,b,c,time))"
      ],
      "metadata": {
        "colab": {
          "base_uri": "https://localhost:8080/"
        },
        "id": "jG_GwXOwFBAa",
        "outputId": "8f7c1844-9fc6-4e36-cdd2-c2b8722387b9"
      },
      "execution_count": 14,
      "outputs": [
        {
          "output_type": "stream",
          "name": "stdout",
          "text": [
            "Hard-coded variables for weather modeling\n",
            "Temperature for hardcoded coefficients at time 5 hours: 22.5\n"
          ]
        }
      ]
    },
    {
      "cell_type": "code",
      "source": [
        "a=float(input(\"Enter coeffient a:\"))\n",
        "b=float(input(\"enter coeffient b:\"))\n",
        "c=float(input(\"enter coeffient c:\"))"
      ],
      "metadata": {
        "colab": {
          "base_uri": "https://localhost:8080/"
        },
        "id": "YrBt4pOQFLGh",
        "outputId": "bc3f3438-1217-421e-b379-e8c8de9ba86b"
      },
      "execution_count": 15,
      "outputs": [
        {
          "name": "stdout",
          "output_type": "stream",
          "text": [
            "Enter coeffient a:0.1\n",
            "enter coeffient b:3\n",
            "enter coeffient c:10\n"
          ]
        }
      ]
    },
    {
      "cell_type": "code",
      "source": [
        "time-float(input(\"enter time\"))"
      ],
      "metadata": {
        "colab": {
          "base_uri": "https://localhost:8080/"
        },
        "id": "gLgLY1_KFfIc",
        "outputId": "8fca5b3f-ea2a-4dd4-e6c5-ca231b4eaabd"
      },
      "execution_count": 16,
      "outputs": [
        {
          "name": "stdout",
          "output_type": "stream",
          "text": [
            "enter time4\n"
          ]
        },
        {
          "output_type": "execute_result",
          "data": {
            "text/plain": [
              "1.0"
            ]
          },
          "metadata": {},
          "execution_count": 16
        }
      ]
    },
    {
      "cell_type": "code",
      "source": [
        "print(\"Hard-coded variables for weather modeling\")\n",
        "print(\"Temperature form keyboard coefficients at time\", time, \"hours\", Temperature_modeling(a,b,c,time))"
      ],
      "metadata": {
        "colab": {
          "base_uri": "https://localhost:8080/"
        },
        "id": "O8qeW1vlFprc",
        "outputId": "b10142c1-1d35-4171-a36b-238e567aeaee"
      },
      "execution_count": 17,
      "outputs": [
        {
          "output_type": "stream",
          "name": "stdout",
          "text": [
            "Hard-coded variables for weather modeling\n",
            "Temperature form keyboard coefficients at time 5 hours 27.5\n"
          ]
        }
      ]
    },
    {
      "cell_type": "code",
      "source": [
        "def read_from_file(filename):\n",
        "  with open(filename, 'r') as file:\n",
        "    lines = file.readlines()\n",
        "  coefficients = [tuple (map(float, line.strip().split(','))) for line in lines]\n",
        "  return coefficients"
      ],
      "metadata": {
        "id": "EugmBd_oGhzj"
      },
      "execution_count": 31,
      "outputs": []
    },
    {
      "cell_type": "code",
      "source": [
        "coefficients = read_from_file('/content/se week2 file.txt')\n",
        "a, b, c, time = coefficients [0] # First set of coefficients\n",
        "temperature = Temperature_modeling(a, b, c, time)\n",
        "print(\"read from a file for weather modeling\")\n",
        "print(\"Temperature form keyboard coefficients at time\", time, \"hours:\", Temperature_modeling(a,b,c,time))"
      ],
      "metadata": {
        "colab": {
          "base_uri": "https://localhost:8080/"
        },
        "id": "8LM9Ad-5HWoa",
        "outputId": "10e4590d-a9ec-411c-b12a-8768653fbc50"
      },
      "execution_count": 35,
      "outputs": [
        {
          "output_type": "stream",
          "name": "stdout",
          "text": [
            "read from a file for weather modeling\n",
            "Temperature form keyboard coefficients at time 178.0 hours: 38303.0\n"
          ]
        }
      ]
    },
    {
      "cell_type": "code",
      "source": [
        "for idx, (a, b, c,time) in enumerate(coefficients):\n",
        "    temperature = Temperature_modeling(a, b, c,time)\n",
        "    print(\"Temperature form keyboard coefficients at time\", time, \"hours\", Temperature_modeling(a,b,c,time))"
      ],
      "metadata": {
        "colab": {
          "base_uri": "https://localhost:8080/"
        },
        "id": "600ts2x1HzQb",
        "outputId": "939e9fd3-485a-4263-8834-d998f5fb44d7"
      },
      "execution_count": 38,
      "outputs": [
        {
          "output_type": "stream",
          "name": "stdout",
          "text": [
            "Temperature form keyboard coefficients at time 178.0 hours 38303.0\n"
          ]
        }
      ]
    },
    {
      "cell_type": "code",
      "source": [],
      "metadata": {
        "id": "3ecRxhoWIrB2"
      },
      "execution_count": null,
      "outputs": []
    }
  ]
}