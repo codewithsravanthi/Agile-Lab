{
  "nbformat": 4,
  "nbformat_minor": 0,
  "metadata": {
    "colab": {
      "provenance": [],
      "authorship_tag": "ABX9TyML2kytbF6ryRgCVqKaGrYd",
      "include_colab_link": true
    },
    "kernelspec": {
      "name": "python3",
      "display_name": "Python 3"
    },
    "language_info": {
      "name": "python"
    }
  },
  "cells": [
    {
      "cell_type": "markdown",
      "metadata": {
        "id": "view-in-github",
        "colab_type": "text"
      },
      "source": [
        "<a href=\"https://colab.research.google.com/github/codewithsravanthi/Agile-Lab/blob/main/SE_LAB_WEEK2(04_12).ipynb\" target=\"_parent\"><img src=\"https://colab.research.google.com/assets/colab-badge.svg\" alt=\"Open In Colab\"/></a>"
      ]
    },
    {
      "cell_type": "code",
      "execution_count": 5,
      "metadata": {
        "id": "DZs_evRkmLDu"
      },
      "outputs": [],
      "source": [
        "def Temperature_modelling(a,b,c,time):\n",
        "    temperature = a*time**2+b*time+c\n",
        "    return temperature"
      ]
    },
    {
      "cell_type": "code",
      "source": [
        "#Hard-coded Variables\n",
        "a,b,c = 0.1,2,10\n",
        "time = 5"
      ],
      "metadata": {
        "id": "S2kqMilSm3dO"
      },
      "execution_count": 6,
      "outputs": []
    },
    {
      "cell_type": "code",
      "source": [
        "print(\"Hard-coded variables for weather Modelling\")\n",
        "print(\"Temperature for hardcoded coefficients at time\",time,\"hours:\",Temperature_modelling(a,b,c,time))\n"
      ],
      "metadata": {
        "colab": {
          "base_uri": "https://localhost:8080/"
        },
        "id": "wY179yxLp-qE",
        "outputId": "fc0c42c7-6953-4e93-f6d2-784493bbd16a"
      },
      "execution_count": 7,
      "outputs": [
        {
          "output_type": "stream",
          "name": "stdout",
          "text": [
            "Hard-coded variables for weather Modelling\n",
            "Temperature for hardcoded coefficients at time 5 hours: 22.5\n"
          ]
        }
      ]
    },
    {
      "cell_type": "code",
      "source": [
        "a=float(input(\"Enter coefficient of a:\"))\n",
        "b=float(input(\"Enter coefficient of b:\"))\n",
        "c=float(input(\"Enter coefficient of c:\"))"
      ],
      "metadata": {
        "colab": {
          "base_uri": "https://localhost:8080/"
        },
        "id": "wVtXtbV3qhN3",
        "outputId": "3798e785-16be-4d75-ebca-9657b9008c22"
      },
      "execution_count": 9,
      "outputs": [
        {
          "name": "stdout",
          "output_type": "stream",
          "text": [
            "Enter coefficient of a:0.1\n",
            "Enter coefficient of b:2\n",
            "Enter coefficient of c:10\n"
          ]
        }
      ]
    },
    {
      "cell_type": "code",
      "source": [
        "def read_from_file(filename):\n",
        "    with open(filename, 'r') as file:\n",
        "        lines = file.readlines()\n",
        "    coefficients = [tuple(map(float, line.strip().split(','))) for line in lines]\n",
        "    return coefficients"
      ],
      "metadata": {
        "id": "BjgBI9p8rSmw"
      },
      "execution_count": 10,
      "outputs": []
    },
    {
      "cell_type": "code",
      "source": [
        "coefficients = read_from_file('/input.txt')\n",
        "a,b,c,time = coefficients[0]\n",
        "temperature = Temperature_modelling(a,b,c,time)\n",
        "print(\"read from a file for weather Modelling\")\n",
        "print(\"Temperature from keyboard coeeficients at time\",time,\"hours:\",Temperature_modelling(a,b,c,time))"
      ],
      "metadata": {
        "colab": {
          "base_uri": "https://localhost:8080/"
        },
        "id": "QZTD0wiur5m5",
        "outputId": "c3ef85dc-ee17-4e5a-a67b-bd69104650bd"
      },
      "execution_count": 15,
      "outputs": [
        {
          "output_type": "stream",
          "name": "stdout",
          "text": [
            "read from a file for weather Modelling\n",
            "Temperature from keyboard coeeficients at time 12.0 hours: 328.0\n"
          ]
        }
      ]
    },
    {
      "cell_type": "code",
      "source": [
        "for idx, (a,b,c, time) in enumerate(coefficients):\n",
        "  temperature = Temperature_modelling(a,b,c, time)\n",
        "  print(\"Temperature from keyboard coefficients at time\",time,\"hours:\",Temperature_modelling(a,b,c,time))\n",
        "\n"
      ],
      "metadata": {
        "colab": {
          "base_uri": "https://localhost:8080/"
        },
        "id": "PzQRPFcR0tVB",
        "outputId": "70bc0081-152c-470a-869f-393c2768e3d1"
      },
      "execution_count": 16,
      "outputs": [
        {
          "output_type": "stream",
          "name": "stdout",
          "text": [
            "Temperature from keyboard coefficients at time 12.0 hours: 328.0\n"
          ]
        }
      ]
    }
  ]
}